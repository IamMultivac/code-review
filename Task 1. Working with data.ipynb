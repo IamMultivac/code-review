{
 "cells": [
  {
   "cell_type": "code",
   "execution_count": 1,
   "id": "12071c45-f340-474a-97a4-90c9a981feb2",
   "metadata": {},
   "outputs": [],
   "source": [
    "import pandas as pd\n",
    "import numpy as np"
   ]
  },
  {
   "cell_type": "code",
   "execution_count": 97,
   "id": "7a450589-1a74-4fdf-87a8-43c5734c8874",
   "metadata": {},
   "outputs": [
    {
     "name": "stdout",
     "output_type": "stream",
     "text": [
      "Starting datetime: 2022-07-19 19:36:36.662080\n"
     ]
    }
   ],
   "source": [
    "print(f\"Starting datetime: {pd.to_datetime('today')}\")"
   ]
  },
  {
   "cell_type": "code",
   "execution_count": 237,
   "id": "70c6a3a9-f9af-4ca5-b8c4-16abb270d83e",
   "metadata": {},
   "outputs": [],
   "source": [
    "data = pd.read_csv(\"../data/event_data.csv\")"
   ]
  },
  {
   "cell_type": "code",
   "execution_count": 217,
   "id": "9c496f95-c066-4d4f-abcf-de448b118ebc",
   "metadata": {},
   "outputs": [
    {
     "name": "stdout",
     "output_type": "stream",
     "text": [
      "<class 'pandas.core.frame.DataFrame'>\n",
      "RangeIndex: 79742 entries, 0 to 79741\n",
      "Data columns (total 4 columns):\n",
      " #   Column           Non-Null Count  Dtype  \n",
      "---  ------           --------------  -----  \n",
      " 0   user_id          79742 non-null  object \n",
      " 1   event_date       79742 non-null  object \n",
      " 2   event_type       79742 non-null  object \n",
      " 3   purchase_amount  6207 non-null   float64\n",
      "dtypes: float64(1), object(3)\n",
      "memory usage: 2.4+ MB\n"
     ]
    }
   ],
   "source": [
    "data.info()"
   ]
  },
  {
   "cell_type": "code",
   "execution_count": 218,
   "id": "3c172e8b-62f8-403c-89d9-45f7e8e919c8",
   "metadata": {},
   "outputs": [
    {
     "data": {
      "text/html": [
       "<div>\n",
       "<style scoped>\n",
       "    .dataframe tbody tr th:only-of-type {\n",
       "        vertical-align: middle;\n",
       "    }\n",
       "\n",
       "    .dataframe tbody tr th {\n",
       "        vertical-align: top;\n",
       "    }\n",
       "\n",
       "    .dataframe thead th {\n",
       "        text-align: right;\n",
       "    }\n",
       "</style>\n",
       "<table border=\"1\" class=\"dataframe\">\n",
       "  <thead>\n",
       "    <tr style=\"text-align: right;\">\n",
       "      <th></th>\n",
       "      <th>user_id</th>\n",
       "      <th>event_date</th>\n",
       "      <th>event_type</th>\n",
       "      <th>purchase_amount</th>\n",
       "    </tr>\n",
       "  </thead>\n",
       "  <tbody>\n",
       "    <tr>\n",
       "      <th>0</th>\n",
       "      <td>c40e6a</td>\n",
       "      <td>2019-07-29 00:02:15</td>\n",
       "      <td>registration</td>\n",
       "      <td>NaN</td>\n",
       "    </tr>\n",
       "    <tr>\n",
       "      <th>1</th>\n",
       "      <td>a2b682</td>\n",
       "      <td>2019-07-29 00:04:46</td>\n",
       "      <td>registration</td>\n",
       "      <td>NaN</td>\n",
       "    </tr>\n",
       "    <tr>\n",
       "      <th>2</th>\n",
       "      <td>9ac888</td>\n",
       "      <td>2019-07-29 00:13:22</td>\n",
       "      <td>registration</td>\n",
       "      <td>NaN</td>\n",
       "    </tr>\n",
       "    <tr>\n",
       "      <th>3</th>\n",
       "      <td>93ff22</td>\n",
       "      <td>2019-07-29 00:16:47</td>\n",
       "      <td>registration</td>\n",
       "      <td>NaN</td>\n",
       "    </tr>\n",
       "    <tr>\n",
       "      <th>4</th>\n",
       "      <td>65ef85</td>\n",
       "      <td>2019-07-29 00:19:23</td>\n",
       "      <td>registration</td>\n",
       "      <td>NaN</td>\n",
       "    </tr>\n",
       "    <tr>\n",
       "      <th>5</th>\n",
       "      <td>90852e</td>\n",
       "      <td>2019-07-29 00:21:16</td>\n",
       "      <td>registration</td>\n",
       "      <td>NaN</td>\n",
       "    </tr>\n",
       "    <tr>\n",
       "      <th>6</th>\n",
       "      <td>357151</td>\n",
       "      <td>2019-07-29 00:25:53</td>\n",
       "      <td>registration</td>\n",
       "      <td>NaN</td>\n",
       "    </tr>\n",
       "  </tbody>\n",
       "</table>\n",
       "</div>"
      ],
      "text/plain": [
       "  user_id           event_date    event_type  purchase_amount\n",
       "0  c40e6a  2019-07-29 00:02:15  registration              NaN\n",
       "1  a2b682  2019-07-29 00:04:46  registration              NaN\n",
       "2  9ac888  2019-07-29 00:13:22  registration              NaN\n",
       "3  93ff22  2019-07-29 00:16:47  registration              NaN\n",
       "4  65ef85  2019-07-29 00:19:23  registration              NaN\n",
       "5  90852e  2019-07-29 00:21:16  registration              NaN\n",
       "6  357151  2019-07-29 00:25:53  registration              NaN"
      ]
     },
     "execution_count": 218,
     "metadata": {},
     "output_type": "execute_result"
    }
   ],
   "source": [
    "data.head(7)"
   ]
  },
  {
   "cell_type": "markdown",
   "id": "614d9fcd-fb77-434a-8a35-2c5c6364aa7f",
   "metadata": {},
   "source": [
    "2. Highlight user cohorts based on the week of registration in the application. The cohort\n",
    "identifier should be the week ordinal (for example, the week from July 29 to August 4\n",
    "should have identifier 31).\n",
    "\n"
   ]
  },
  {
   "cell_type": "code",
   "execution_count": 238,
   "id": "fc1fe455-00fe-4151-a743-abb5eba61c99",
   "metadata": {},
   "outputs": [],
   "source": [
    "data.event_date = data.event_date.apply(pd.Timestamp)"
   ]
  },
  {
   "cell_type": "code",
   "execution_count": 239,
   "id": "d52f3872-43e6-49ed-8424-19ec6c079367",
   "metadata": {},
   "outputs": [
    {
     "name": "stderr",
     "output_type": "stream",
     "text": [
      "/var/folders/qr/1htx77yx7hqb1c_22kq9l2_w0000gn/T/ipykernel_774/3455934772.py:1: FutureWarning: Treating datetime data as categorical rather than numeric in `.describe` is deprecated and will be removed in a future version of pandas. Specify `datetime_is_numeric=True` to silence this warning and adopt the future behavior now.\n",
      "  data.event_date.describe()\n"
     ]
    },
    {
     "data": {
      "text/plain": [
       "count                   79742\n",
       "unique                  78509\n",
       "top       2019-08-29 17:13:38\n",
       "freq                        3\n",
       "first     2019-07-29 00:02:15\n",
       "last      2019-09-01 23:59:54\n",
       "Name: event_date, dtype: object"
      ]
     },
     "execution_count": 239,
     "metadata": {},
     "output_type": "execute_result"
    }
   ],
   "source": [
    "data.event_date.describe()"
   ]
  },
  {
   "cell_type": "code",
   "execution_count": 240,
   "id": "0bd80175-a2d8-43d5-a48c-f9db8ea8501a",
   "metadata": {},
   "outputs": [
    {
     "name": "stderr",
     "output_type": "stream",
     "text": [
      "/var/folders/qr/1htx77yx7hqb1c_22kq9l2_w0000gn/T/ipykernel_774/3812958975.py:1: FutureWarning: Series.dt.weekofyear and Series.dt.week have been deprecated. Please use Series.dt.isocalendar().week instead.\n",
      "  data[\"week_number\"] = data.event_date.dt.week\n"
     ]
    }
   ],
   "source": [
    "data[\"week_number\"] = data.event_date.dt.week"
   ]
  },
  {
   "cell_type": "code",
   "execution_count": 241,
   "id": "15b7aa5c-032b-481d-b0be-5ca18a91c6c5",
   "metadata": {},
   "outputs": [],
   "source": [
    "table = data.groupby(\"week_number\", as_index = False).user_id.count()\n"
   ]
  },
  {
   "cell_type": "markdown",
   "id": "16cf94fa-ad3e-4252-8c75-167de88ef2e3",
   "metadata": {},
   "source": [
    "3. How many unique users in the cohort with ID 33?\n",
    "\n"
   ]
  },
  {
   "cell_type": "code",
   "execution_count": 242,
   "id": "e8233a2b-3884-40d9-9e8c-ecad20dba437",
   "metadata": {},
   "outputs": [
    {
     "data": {
      "text/plain": [
       "18144"
      ]
     },
     "execution_count": 242,
     "metadata": {},
     "output_type": "execute_result"
    }
   ],
   "source": [
    "table.query(\"week_number == 33\").user_id.values[0]"
   ]
  },
  {
   "cell_type": "markdown",
   "id": "ee759390-52f5-4dd5-afb1-dca63fba741a",
   "metadata": {},
   "source": [
    "4. For each event, highlight the indicator lifetime - the weekly lifetime of the cohort. The\n",
    "lifetime indicator is calculated based on the serial number of the week in which the event\n",
    "is committed, relative to the week of registration. For example, an event committed on\n",
    "August 3 by a user from a cohort of registrants at 31 weeks will be committed on the zero\n",
    "week of lifetime, and an event committed by the same user on August 5 will be committed\n",
    "on the first week of lifetime).\n",
    "\n"
   ]
  },
  {
   "cell_type": "code",
   "execution_count": 246,
   "id": "37eb4618-a545-4307-9b67-e8a6362a4931",
   "metadata": {},
   "outputs": [],
   "source": [
    "data[\"cohort_lifetime\"] = data.groupby(\"user_id\").week_number.rank(method = \"dense\") - 1\n",
    "data[\"cohort_id\"] = data.groupby(\"user_id\").week_number.transform(\"min\")"
   ]
  },
  {
   "cell_type": "code",
   "execution_count": 248,
   "id": "0ea36549-af7c-4aaf-8615-6f65384be688",
   "metadata": {},
   "outputs": [
    {
     "data": {
      "text/html": [
       "<div>\n",
       "<style scoped>\n",
       "    .dataframe tbody tr th:only-of-type {\n",
       "        vertical-align: middle;\n",
       "    }\n",
       "\n",
       "    .dataframe tbody tr th {\n",
       "        vertical-align: top;\n",
       "    }\n",
       "\n",
       "    .dataframe thead th {\n",
       "        text-align: right;\n",
       "    }\n",
       "</style>\n",
       "<table border=\"1\" class=\"dataframe\">\n",
       "  <thead>\n",
       "    <tr style=\"text-align: right;\">\n",
       "      <th></th>\n",
       "      <th>user_id</th>\n",
       "      <th>event_date</th>\n",
       "      <th>event_type</th>\n",
       "      <th>purchase_amount</th>\n",
       "      <th>week_number</th>\n",
       "      <th>cohort_lifetime</th>\n",
       "      <th>cohort_id</th>\n",
       "    </tr>\n",
       "  </thead>\n",
       "  <tbody>\n",
       "    <tr>\n",
       "      <th>10156</th>\n",
       "      <td>3be5b0</td>\n",
       "      <td>2019-08-07 16:36:38</td>\n",
       "      <td>simple_event</td>\n",
       "      <td>NaN</td>\n",
       "      <td>32</td>\n",
       "      <td>0.0</td>\n",
       "      <td>32</td>\n",
       "    </tr>\n",
       "    <tr>\n",
       "      <th>20277</th>\n",
       "      <td>14b5dd</td>\n",
       "      <td>2019-08-12 14:07:14</td>\n",
       "      <td>simple_event</td>\n",
       "      <td>NaN</td>\n",
       "      <td>33</td>\n",
       "      <td>1.0</td>\n",
       "      <td>32</td>\n",
       "    </tr>\n",
       "    <tr>\n",
       "      <th>50171</th>\n",
       "      <td>b7274f</td>\n",
       "      <td>2019-08-23 12:14:38</td>\n",
       "      <td>registration</td>\n",
       "      <td>NaN</td>\n",
       "      <td>34</td>\n",
       "      <td>0.0</td>\n",
       "      <td>34</td>\n",
       "    </tr>\n",
       "    <tr>\n",
       "      <th>9873</th>\n",
       "      <td>7f5766</td>\n",
       "      <td>2019-08-07 13:02:18</td>\n",
       "      <td>simple_event</td>\n",
       "      <td>NaN</td>\n",
       "      <td>32</td>\n",
       "      <td>1.0</td>\n",
       "      <td>31</td>\n",
       "    </tr>\n",
       "    <tr>\n",
       "      <th>2531</th>\n",
       "      <td>e4ec01</td>\n",
       "      <td>2019-08-02 05:24:28</td>\n",
       "      <td>simple_event</td>\n",
       "      <td>NaN</td>\n",
       "      <td>31</td>\n",
       "      <td>0.0</td>\n",
       "      <td>31</td>\n",
       "    </tr>\n",
       "    <tr>\n",
       "      <th>69479</th>\n",
       "      <td>930cb5</td>\n",
       "      <td>2019-08-29 18:30:38</td>\n",
       "      <td>simple_event</td>\n",
       "      <td>NaN</td>\n",
       "      <td>35</td>\n",
       "      <td>1.0</td>\n",
       "      <td>34</td>\n",
       "    </tr>\n",
       "    <tr>\n",
       "      <th>2696</th>\n",
       "      <td>4a0550</td>\n",
       "      <td>2019-08-02 09:40:45</td>\n",
       "      <td>simple_event</td>\n",
       "      <td>NaN</td>\n",
       "      <td>31</td>\n",
       "      <td>0.0</td>\n",
       "      <td>31</td>\n",
       "    </tr>\n",
       "  </tbody>\n",
       "</table>\n",
       "</div>"
      ],
      "text/plain": [
       "      user_id          event_date    event_type  purchase_amount  week_number  \\\n",
       "10156  3be5b0 2019-08-07 16:36:38  simple_event              NaN           32   \n",
       "20277  14b5dd 2019-08-12 14:07:14  simple_event              NaN           33   \n",
       "50171  b7274f 2019-08-23 12:14:38  registration              NaN           34   \n",
       "9873   7f5766 2019-08-07 13:02:18  simple_event              NaN           32   \n",
       "2531   e4ec01 2019-08-02 05:24:28  simple_event              NaN           31   \n",
       "69479  930cb5 2019-08-29 18:30:38  simple_event              NaN           35   \n",
       "2696   4a0550 2019-08-02 09:40:45  simple_event              NaN           31   \n",
       "\n",
       "       cohort_lifetime  cohort_id  \n",
       "10156              0.0         32  \n",
       "20277              1.0         32  \n",
       "50171              0.0         34  \n",
       "9873               1.0         31  \n",
       "2531               0.0         31  \n",
       "69479              1.0         34  \n",
       "2696               0.0         31  "
      ]
     },
     "execution_count": 248,
     "metadata": {},
     "output_type": "execute_result"
    }
   ],
   "source": [
    "data.sample(7)"
   ]
  },
  {
   "cell_type": "markdown",
   "id": "38fbb665-19cf-48c6-96bc-06a2018fae39",
   "metadata": {},
   "source": [
    "5. Build a summary table of changes in the Retention Rate for cohorts depending on lifetime.\n",
    "\n"
   ]
  },
  {
   "cell_type": "code",
   "execution_count": 268,
   "id": "748ba9f8-cf3f-4703-9720-19effd8dcd1b",
   "metadata": {},
   "outputs": [
    {
     "data": {
      "text/html": [
       "<div>\n",
       "<style scoped>\n",
       "    .dataframe tbody tr th:only-of-type {\n",
       "        vertical-align: middle;\n",
       "    }\n",
       "\n",
       "    .dataframe tbody tr th {\n",
       "        vertical-align: top;\n",
       "    }\n",
       "\n",
       "    .dataframe thead th {\n",
       "        text-align: right;\n",
       "    }\n",
       "</style>\n",
       "<table border=\"1\" class=\"dataframe\">\n",
       "  <thead>\n",
       "    <tr style=\"text-align: right;\">\n",
       "      <th></th>\n",
       "      <th>cohort_id</th>\n",
       "      <th>cohort_lifetime</th>\n",
       "      <th>user_id</th>\n",
       "      <th>retention_rate</th>\n",
       "    </tr>\n",
       "  </thead>\n",
       "  <tbody>\n",
       "    <tr>\n",
       "      <th>0</th>\n",
       "      <td>31</td>\n",
       "      <td>0.0</td>\n",
       "      <td>5758</td>\n",
       "      <td>NaN</td>\n",
       "    </tr>\n",
       "    <tr>\n",
       "      <th>1</th>\n",
       "      <td>31</td>\n",
       "      <td>1.0</td>\n",
       "      <td>7439</td>\n",
       "      <td>0.291942</td>\n",
       "    </tr>\n",
       "    <tr>\n",
       "      <th>2</th>\n",
       "      <td>31</td>\n",
       "      <td>2.0</td>\n",
       "      <td>4671</td>\n",
       "      <td>-0.372093</td>\n",
       "    </tr>\n",
       "    <tr>\n",
       "      <th>3</th>\n",
       "      <td>31</td>\n",
       "      <td>3.0</td>\n",
       "      <td>2414</td>\n",
       "      <td>-0.483194</td>\n",
       "    </tr>\n",
       "    <tr>\n",
       "      <th>4</th>\n",
       "      <td>31</td>\n",
       "      <td>4.0</td>\n",
       "      <td>838</td>\n",
       "      <td>-0.652858</td>\n",
       "    </tr>\n",
       "    <tr>\n",
       "      <th>5</th>\n",
       "      <td>32</td>\n",
       "      <td>0.0</td>\n",
       "      <td>5706</td>\n",
       "      <td>NaN</td>\n",
       "    </tr>\n",
       "    <tr>\n",
       "      <th>6</th>\n",
       "      <td>32</td>\n",
       "      <td>1.0</td>\n",
       "      <td>7452</td>\n",
       "      <td>0.305994</td>\n",
       "    </tr>\n",
       "    <tr>\n",
       "      <th>7</th>\n",
       "      <td>32</td>\n",
       "      <td>2.0</td>\n",
       "      <td>4724</td>\n",
       "      <td>-0.366076</td>\n",
       "    </tr>\n",
       "    <tr>\n",
       "      <th>8</th>\n",
       "      <td>32</td>\n",
       "      <td>3.0</td>\n",
       "      <td>2447</td>\n",
       "      <td>-0.482007</td>\n",
       "    </tr>\n",
       "    <tr>\n",
       "      <th>9</th>\n",
       "      <td>33</td>\n",
       "      <td>0.0</td>\n",
       "      <td>6021</td>\n",
       "      <td>NaN</td>\n",
       "    </tr>\n",
       "    <tr>\n",
       "      <th>10</th>\n",
       "      <td>33</td>\n",
       "      <td>1.0</td>\n",
       "      <td>7813</td>\n",
       "      <td>0.297625</td>\n",
       "    </tr>\n",
       "    <tr>\n",
       "      <th>11</th>\n",
       "      <td>33</td>\n",
       "      <td>2.0</td>\n",
       "      <td>5133</td>\n",
       "      <td>-0.343018</td>\n",
       "    </tr>\n",
       "    <tr>\n",
       "      <th>12</th>\n",
       "      <td>34</td>\n",
       "      <td>0.0</td>\n",
       "      <td>5760</td>\n",
       "      <td>NaN</td>\n",
       "    </tr>\n",
       "    <tr>\n",
       "      <th>13</th>\n",
       "      <td>34</td>\n",
       "      <td>1.0</td>\n",
       "      <td>7508</td>\n",
       "      <td>0.303472</td>\n",
       "    </tr>\n",
       "    <tr>\n",
       "      <th>14</th>\n",
       "      <td>35</td>\n",
       "      <td>0.0</td>\n",
       "      <td>6058</td>\n",
       "      <td>NaN</td>\n",
       "    </tr>\n",
       "  </tbody>\n",
       "</table>\n",
       "</div>"
      ],
      "text/plain": [
       "    cohort_id  cohort_lifetime  user_id  retention_rate\n",
       "0          31              0.0     5758             NaN\n",
       "1          31              1.0     7439        0.291942\n",
       "2          31              2.0     4671       -0.372093\n",
       "3          31              3.0     2414       -0.483194\n",
       "4          31              4.0      838       -0.652858\n",
       "5          32              0.0     5706             NaN\n",
       "6          32              1.0     7452        0.305994\n",
       "7          32              2.0     4724       -0.366076\n",
       "8          32              3.0     2447       -0.482007\n",
       "9          33              0.0     6021             NaN\n",
       "10         33              1.0     7813        0.297625\n",
       "11         33              2.0     5133       -0.343018\n",
       "12         34              0.0     5760             NaN\n",
       "13         34              1.0     7508        0.303472\n",
       "14         35              0.0     6058             NaN"
      ]
     },
     "execution_count": 268,
     "metadata": {},
     "output_type": "execute_result"
    }
   ],
   "source": [
    "table = (data\n",
    " .groupby([\"cohort_id\",\"cohort_lifetime\"], as_index = False)\n",
    " .user_id\n",
    " .count()\n",
    "). assign(retention_rate = (data\n",
    " .groupby([\"cohort_id\",\"cohort_lifetime\"], as_index = False)\n",
    " .user_id\n",
    " .count()\n",
    " .groupby([\"cohort_id\"])\n",
    " .user_id\n",
    " .pct_change()\n",
    "))\n",
    "\n",
    "table"
   ]
  },
  {
   "cell_type": "markdown",
   "id": "2c016447-0478-4a8f-90a6-96f5f41e9b22",
   "metadata": {},
   "source": [
    "6. What is the 3 week retention rate for a cohort with ID 32? Give the answer in percent,\n",
    "rounded to 2 decimal places, inclusive.\n",
    "\n"
   ]
  },
  {
   "cell_type": "code",
   "execution_count": 272,
   "id": "e8f45bb3-40df-42dc-9911-d5efc20ce912",
   "metadata": {},
   "outputs": [
    {
     "data": {
      "text/plain": [
       "-0.48"
      ]
     },
     "execution_count": 272,
     "metadata": {},
     "output_type": "execute_result"
    }
   ],
   "source": [
    "round(table.query(\"cohort_id == 32 and cohort_lifetime == 3\").retention_rate.values[0],2)"
   ]
  },
  {
   "cell_type": "markdown",
   "id": "96c986ad-94cb-430e-b427-cd438ef7eb54",
   "metadata": {},
   "source": [
    "7. Build a summary table of changes in the indicator ARPPU (Average Revenue Per Paying\n",
    "User) for cohorts depending on lifetime.\n",
    "\n"
   ]
  },
  {
   "cell_type": "code",
   "execution_count": 294,
   "id": "77fa0190-95a8-4266-89da-c74b0dbb6c9b",
   "metadata": {},
   "outputs": [],
   "source": [
    "amount_table = (data\n",
    " .groupby([\"cohort_id\",\"cohort_lifetime\"], as_index = False)\n",
    " .purchase_amount\n",
    " .sum()\n",
    "    )\n",
    "\n",
    "paid_users_table = (data[data.event_type == \"purchase\"]\n",
    " .groupby([\"cohort_id\",\"cohort_lifetime\"], as_index = False)\n",
    " .user_id\n",
    " .nunique()\n",
    " .rename(columns = {\"user_id\":\"paid_users\"})\n",
    "    )\n",
    "\n",
    "table = pd.merge(amount_table, paid_users_table, on = [\"cohort_id\", \"cohort_lifetime\"], how = \"outer\")"
   ]
  },
  {
   "cell_type": "code",
   "execution_count": 296,
   "id": "3e26b14a-92e8-45ef-bbef-66b94bb33521",
   "metadata": {},
   "outputs": [],
   "source": [
    "table[\"arppu\"] = table[\"purchase_amount\"]/table[\"paid_users\"]"
   ]
  },
  {
   "cell_type": "code",
   "execution_count": 302,
   "id": "54271a0a-63b7-4ce6-b900-aa353044c8c3",
   "metadata": {},
   "outputs": [
    {
     "data": {
      "text/html": [
       "<div>\n",
       "<style scoped>\n",
       "    .dataframe tbody tr th:only-of-type {\n",
       "        vertical-align: middle;\n",
       "    }\n",
       "\n",
       "    .dataframe tbody tr th {\n",
       "        vertical-align: top;\n",
       "    }\n",
       "\n",
       "    .dataframe thead th {\n",
       "        text-align: right;\n",
       "    }\n",
       "</style>\n",
       "<table border=\"1\" class=\"dataframe\">\n",
       "  <thead>\n",
       "    <tr style=\"text-align: right;\">\n",
       "      <th></th>\n",
       "      <th>cohort_id</th>\n",
       "      <th>cohort_lifetime</th>\n",
       "      <th>purchase_amount</th>\n",
       "      <th>paid_users</th>\n",
       "      <th>arppu</th>\n",
       "      <th>arpu_change</th>\n",
       "    </tr>\n",
       "  </thead>\n",
       "  <tbody>\n",
       "    <tr>\n",
       "      <th>0</th>\n",
       "      <td>31</td>\n",
       "      <td>0.0</td>\n",
       "      <td>8890.0</td>\n",
       "      <td>292</td>\n",
       "      <td>30.445205</td>\n",
       "      <td>NaN</td>\n",
       "    </tr>\n",
       "    <tr>\n",
       "      <th>1</th>\n",
       "      <td>31</td>\n",
       "      <td>1.0</td>\n",
       "      <td>20540.0</td>\n",
       "      <td>580</td>\n",
       "      <td>35.413793</td>\n",
       "      <td>0.163198</td>\n",
       "    </tr>\n",
       "    <tr>\n",
       "      <th>2</th>\n",
       "      <td>31</td>\n",
       "      <td>2.0</td>\n",
       "      <td>12210.0</td>\n",
       "      <td>340</td>\n",
       "      <td>35.911765</td>\n",
       "      <td>0.014062</td>\n",
       "    </tr>\n",
       "    <tr>\n",
       "      <th>3</th>\n",
       "      <td>31</td>\n",
       "      <td>3.0</td>\n",
       "      <td>6120.0</td>\n",
       "      <td>185</td>\n",
       "      <td>33.081081</td>\n",
       "      <td>-0.078823</td>\n",
       "    </tr>\n",
       "    <tr>\n",
       "      <th>4</th>\n",
       "      <td>31</td>\n",
       "      <td>4.0</td>\n",
       "      <td>2010.0</td>\n",
       "      <td>64</td>\n",
       "      <td>31.406250</td>\n",
       "      <td>-0.050628</td>\n",
       "    </tr>\n",
       "    <tr>\n",
       "      <th>5</th>\n",
       "      <td>32</td>\n",
       "      <td>0.0</td>\n",
       "      <td>10850.0</td>\n",
       "      <td>329</td>\n",
       "      <td>32.978723</td>\n",
       "      <td>NaN</td>\n",
       "    </tr>\n",
       "    <tr>\n",
       "      <th>6</th>\n",
       "      <td>32</td>\n",
       "      <td>1.0</td>\n",
       "      <td>21050.0</td>\n",
       "      <td>601</td>\n",
       "      <td>35.024958</td>\n",
       "      <td>0.062047</td>\n",
       "    </tr>\n",
       "    <tr>\n",
       "      <th>7</th>\n",
       "      <td>32</td>\n",
       "      <td>2.0</td>\n",
       "      <td>12600.0</td>\n",
       "      <td>357</td>\n",
       "      <td>35.294118</td>\n",
       "      <td>0.007685</td>\n",
       "    </tr>\n",
       "    <tr>\n",
       "      <th>8</th>\n",
       "      <td>32</td>\n",
       "      <td>3.0</td>\n",
       "      <td>6260.0</td>\n",
       "      <td>188</td>\n",
       "      <td>33.297872</td>\n",
       "      <td>-0.056560</td>\n",
       "    </tr>\n",
       "    <tr>\n",
       "      <th>9</th>\n",
       "      <td>33</td>\n",
       "      <td>0.0</td>\n",
       "      <td>9790.0</td>\n",
       "      <td>295</td>\n",
       "      <td>33.186441</td>\n",
       "      <td>NaN</td>\n",
       "    </tr>\n",
       "    <tr>\n",
       "      <th>10</th>\n",
       "      <td>33</td>\n",
       "      <td>1.0</td>\n",
       "      <td>21730.0</td>\n",
       "      <td>606</td>\n",
       "      <td>35.858086</td>\n",
       "      <td>0.080504</td>\n",
       "    </tr>\n",
       "    <tr>\n",
       "      <th>11</th>\n",
       "      <td>33</td>\n",
       "      <td>2.0</td>\n",
       "      <td>13740.0</td>\n",
       "      <td>395</td>\n",
       "      <td>34.784810</td>\n",
       "      <td>-0.029931</td>\n",
       "    </tr>\n",
       "    <tr>\n",
       "      <th>12</th>\n",
       "      <td>34</td>\n",
       "      <td>0.0</td>\n",
       "      <td>9510.0</td>\n",
       "      <td>281</td>\n",
       "      <td>33.843416</td>\n",
       "      <td>NaN</td>\n",
       "    </tr>\n",
       "    <tr>\n",
       "      <th>13</th>\n",
       "      <td>34</td>\n",
       "      <td>1.0</td>\n",
       "      <td>19640.0</td>\n",
       "      <td>547</td>\n",
       "      <td>35.904936</td>\n",
       "      <td>0.060913</td>\n",
       "    </tr>\n",
       "    <tr>\n",
       "      <th>14</th>\n",
       "      <td>35</td>\n",
       "      <td>0.0</td>\n",
       "      <td>11490.0</td>\n",
       "      <td>337</td>\n",
       "      <td>34.094955</td>\n",
       "      <td>NaN</td>\n",
       "    </tr>\n",
       "  </tbody>\n",
       "</table>\n",
       "</div>"
      ],
      "text/plain": [
       "    cohort_id  cohort_lifetime  purchase_amount  paid_users      arppu  \\\n",
       "0          31              0.0           8890.0         292  30.445205   \n",
       "1          31              1.0          20540.0         580  35.413793   \n",
       "2          31              2.0          12210.0         340  35.911765   \n",
       "3          31              3.0           6120.0         185  33.081081   \n",
       "4          31              4.0           2010.0          64  31.406250   \n",
       "5          32              0.0          10850.0         329  32.978723   \n",
       "6          32              1.0          21050.0         601  35.024958   \n",
       "7          32              2.0          12600.0         357  35.294118   \n",
       "8          32              3.0           6260.0         188  33.297872   \n",
       "9          33              0.0           9790.0         295  33.186441   \n",
       "10         33              1.0          21730.0         606  35.858086   \n",
       "11         33              2.0          13740.0         395  34.784810   \n",
       "12         34              0.0           9510.0         281  33.843416   \n",
       "13         34              1.0          19640.0         547  35.904936   \n",
       "14         35              0.0          11490.0         337  34.094955   \n",
       "\n",
       "    arpu_change  \n",
       "0           NaN  \n",
       "1      0.163198  \n",
       "2      0.014062  \n",
       "3     -0.078823  \n",
       "4     -0.050628  \n",
       "5           NaN  \n",
       "6      0.062047  \n",
       "7      0.007685  \n",
       "8     -0.056560  \n",
       "9           NaN  \n",
       "10     0.080504  \n",
       "11    -0.029931  \n",
       "12          NaN  \n",
       "13     0.060913  \n",
       "14          NaN  "
      ]
     },
     "execution_count": 302,
     "metadata": {},
     "output_type": "execute_result"
    }
   ],
   "source": [
    "table = (table\n",
    ".assign(arpu_change = table.groupby(\"cohort_id\").arppu.pct_change())\n",
    "       )\n",
    "table"
   ]
  },
  {
   "cell_type": "markdown",
   "id": "1b134406-962a-4238-a57a-720d3bf972b7",
   "metadata": {},
   "source": [
    "8. What is the 3-week ARPPU of a cohort with ID 31? Give the answer with a floating point\n",
    "number, rounded to 2 decimal places, inclusive.\n",
    "\n"
   ]
  },
  {
   "cell_type": "code",
   "execution_count": 303,
   "id": "6d949af1-2810-482f-952e-0964cc19c46b",
   "metadata": {},
   "outputs": [
    {
     "data": {
      "text/plain": [
       "33.08"
      ]
     },
     "execution_count": 303,
     "metadata": {},
     "output_type": "execute_result"
    }
   ],
   "source": [
    "round(table.query(\"cohort_id == 31 and cohort_lifetime == 3\").arppu.values[0],2)"
   ]
  },
  {
   "cell_type": "markdown",
   "id": "a907fdfd-8320-4ee4-a9f6-5ef145bec3da",
   "metadata": {},
   "source": [
    "9. What is the median time between user registration and first purchase? Give the answer\n",
    "in seconds (!) As an integer."
   ]
  },
  {
   "cell_type": "code",
   "execution_count": 336,
   "id": "6a82207c-fa2f-4858-a8a9-794a5182a4d1",
   "metadata": {},
   "outputs": [],
   "source": [
    "registration_table = table[table.event_type == \"registration\"].reset_index(drop = True)\n",
    "registration_table.rename(columns = {\"event_date\":\"registration_datetime\"}, inplace = True)\n",
    "registration_table.drop(\"event_type\", axis = 1, inplace = True)\n",
    "\n",
    "purchase_table = table[table.event_type == \"purchase\"].reset_index(drop = True)\n",
    "purchase_table.rename(columns = {\"event_date\":\"purchase_datetime\"}, inplace = True)\n",
    "purchase_table.drop(\"event_type\", axis = 1, inplace = True)"
   ]
  },
  {
   "cell_type": "code",
   "execution_count": 337,
   "id": "b09c4e19-1165-4e7c-b74a-49cf858473ce",
   "metadata": {},
   "outputs": [],
   "source": [
    "merged = pd.merge(registration_table, purchase_table, on = [\"user_id\"], how = \"outer\")"
   ]
  },
  {
   "cell_type": "code",
   "execution_count": 357,
   "id": "1455a8c4-1372-46ce-9492-a4d7db4e3e36",
   "metadata": {},
   "outputs": [],
   "source": [
    "t = (\n",
    "merged[merged.purchase_datetime.notnull()]\n",
    ".assign(time_between_purchs = lambda x: (x[\"purchase_datetime\"] - x[\"registration_datetime\"])/np.timedelta64(1,\"s\"))\n",
    ").sort_values(by = \"time_between_purchs\")"
   ]
  },
  {
   "cell_type": "code",
   "execution_count": 360,
   "id": "cb15b26d-f2bf-4f57-a60b-72d81005a992",
   "metadata": {},
   "outputs": [
    {
     "data": {
      "text/plain": [
       "434774"
      ]
     },
     "execution_count": 360,
     "metadata": {},
     "output_type": "execute_result"
    }
   ],
   "source": [
    "int(t.time_between_purchs.median())"
   ]
  },
  {
   "cell_type": "code",
   "execution_count": 361,
   "id": "a30dff11-b081-4441-8459-4708e1c50e6c",
   "metadata": {},
   "outputs": [
    {
     "name": "stdout",
     "output_type": "stream",
     "text": [
      "End datetime: 2022-07-19 21:17:58.794796\n"
     ]
    }
   ],
   "source": [
    "print(f\"End datetime: {pd.to_datetime('today')}\")"
   ]
  },
  {
   "cell_type": "code",
   "execution_count": null,
   "id": "ab248dc5-26e7-43f9-b78d-1ef6c23d78fe",
   "metadata": {},
   "outputs": [],
   "source": []
  }
 ],
 "metadata": {
  "kernelspec": {
   "display_name": "Python 3 (ipykernel)",
   "language": "python",
   "name": "python3"
  },
  "language_info": {
   "codemirror_mode": {
    "name": "ipython",
    "version": 3
   },
   "file_extension": ".py",
   "mimetype": "text/x-python",
   "name": "python",
   "nbconvert_exporter": "python",
   "pygments_lexer": "ipython3",
   "version": "3.8.9"
  }
 },
 "nbformat": 4,
 "nbformat_minor": 5
}
