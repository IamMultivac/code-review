{
 "cells": [
  {
   "cell_type": "code",
   "execution_count": 1,
   "id": "7b094f2f-ebb4-4077-b638-35560b27304e",
   "metadata": {},
   "outputs": [],
   "source": [
    "from time import time\n",
    "import pandas as pd\n",
    "import numpy as np"
   ]
  },
  {
   "cell_type": "code",
   "execution_count": 2,
   "id": "a8b2d2ee-7e41-4c75-8eff-a2a8db933db0",
   "metadata": {},
   "outputs": [
    {
     "name": "stdout",
     "output_type": "stream",
     "text": [
      "Starting datetime: 2022-07-20 13:51:38.034960\n"
     ]
    }
   ],
   "source": [
    "print(f\"Starting datetime: {pd.to_datetime('today')}\")\n",
    "t0 = time()"
   ]
  },
  {
   "cell_type": "markdown",
   "id": "2e76f020-788f-4a21-8041-977be59869e8",
   "metadata": {},
   "source": [
    "Omer trained a linear regression model and tested its performance on a test sample of 500\n",
    "objects. On 400 of those, the model returned a prediction higher than expected by 0.5, and on\n",
    "the remaining 100, the model returned a prediction lower than expected by 0.7.\n",
    "\n"
   ]
  },
  {
   "cell_type": "markdown",
   "id": "2c709d89-7ae2-4d8f-9eb3-99bf7ebe106d",
   "metadata": {},
   "source": [
    "* What is the MSE for his model?\n",
    "\n"
   ]
  },
  {
   "cell_type": "code",
   "execution_count": 4,
   "id": "db0cb18b-c86f-4439-8e9d-f373e6dce58d",
   "metadata": {},
   "outputs": [
    {
     "data": {
      "text/plain": [
       "0.298"
      ]
     },
     "execution_count": 4,
     "metadata": {},
     "output_type": "execute_result"
    }
   ],
   "source": [
    "(400 * (0.5**2) + 100*(0.7**2))/500"
   ]
  },
  {
   "cell_type": "markdown",
   "id": "2b64c0fe-e9c0-44c8-aa2b-28942100b90d",
   "metadata": {},
   "source": [
    "Limor claims that the linear regression model wasn't trained correctly, and we can do improve\n",
    "it by changing all the answers by a constant value. \n",
    "\n",
    "* What will be her MSE?\n",
    "\n"
   ]
  },
  {
   "cell_type": "markdown",
   "id": "7a56a4b3-a2cb-4409-99be-9da422f93dfc",
   "metadata": {},
   "source": [
    "So Limor is trying to find a value $C$ that minimizes $MSE$ i.e:\n",
    "\n",
    "$\\sum_{i=1}^{n}(x_i-c)^2$\n",
    "\n",
    "w.r.t. $c$\n",
    "\n",
    "1. We find the derivative of $MSE$ and the we equal them to 0.\n",
    "\n",
    "derivate of $\\sum_{i=1}^{n}(x_i-c)^2$ = 2 * $\\sum_{i=1}^{n}(x_i) - n*c$\n",
    "\n",
    "\n",
    "2. Equalizing to zero and solving for c we have:\n",
    "\n",
    "$c$ = $\\frac{\\sum_{i=1}^{n}(x_i)}{n}$\n",
    "\n",
    "3. So Limor's solution is the $average$"
   ]
  },
  {
   "cell_type": "markdown",
   "id": "871e7cf3-c5de-4637-97e3-01d750f6f81b",
   "metadata": {},
   "source": [
    "You can assume that Limor found the smallest error under her constraints.\n",
    "Return two values - Omer's and Limor's MSE."
   ]
  },
  {
   "cell_type": "code",
   "execution_count": 5,
   "id": "45805c3c-87b1-4479-b9ac-dae9cdbdf332",
   "metadata": {},
   "outputs": [
    {
     "name": "stdout",
     "output_type": "stream",
     "text": [
      "End datetime: 2022-07-20 13:53:42.275700\n",
      "Time to complete: 2.070650788148244 minutes\n"
     ]
    }
   ],
   "source": [
    "print(f\"End datetime: {pd.to_datetime('today')}\")\n",
    "print(f\"Time to complete: {(time()-t0)/60} minutes\")"
   ]
  },
  {
   "cell_type": "code",
   "execution_count": null,
   "id": "a7ed36ad-3cd8-4f46-b2a2-32cf1221a223",
   "metadata": {},
   "outputs": [],
   "source": []
  }
 ],
 "metadata": {
  "kernelspec": {
   "display_name": "Python 3 (ipykernel)",
   "language": "python",
   "name": "python3"
  },
  "language_info": {
   "codemirror_mode": {
    "name": "ipython",
    "version": 3
   },
   "file_extension": ".py",
   "mimetype": "text/x-python",
   "name": "python",
   "nbconvert_exporter": "python",
   "pygments_lexer": "ipython3",
   "version": "3.8.9"
  }
 },
 "nbformat": 4,
 "nbformat_minor": 5
}
