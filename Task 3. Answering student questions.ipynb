{
 "cells": [
  {
   "cell_type": "code",
   "execution_count": 5,
   "id": "7b094f2f-ebb4-4077-b638-35560b27304e",
   "metadata": {},
   "outputs": [],
   "source": [
    "from time import time\n",
    "import pandas as pd\n",
    "import numpy as np"
   ]
  },
  {
   "cell_type": "markdown",
   "id": "2e76f020-788f-4a21-8041-977be59869e8",
   "metadata": {},
   "source": [
    "# Answer the question: \n",
    "\n",
    "\"What is the difference between DataFrame and Series?\"\n",
    "\n",
    "Indicate how much time you spent completing this task."
   ]
  },
  {
   "cell_type": "code",
   "execution_count": 3,
   "id": "5246d527-8e72-450a-a077-3c42964d7410",
   "metadata": {},
   "outputs": [
    {
     "name": "stdout",
     "output_type": "stream",
     "text": [
      "Starting datetime: 2022-07-20 12:47:53.713166\n"
     ]
    }
   ],
   "source": [
    "print(f\"Starting datetime: {pd.to_datetime('today')}\")\n",
    "t0 = time()"
   ]
  },
  {
   "cell_type": "markdown",
   "id": "2727f80c-1759-454e-973d-bd2aac5d9111",
   "metadata": {},
   "source": [
    "Both, Series and DataFrames are basic structures of Python's Pandas library.\n",
    "\n",
    "The main difference are:\n",
    "    \n",
    "| Series      | DataFrame   |\n",
    "| :---        |    :----:   |\n",
    "| Unidimensional      | Multidimensional       |\n",
    "| One single data type   | Multiple data types across columns        |\n",
    "| unmutable   | mutable        |\n",
    "\n",
    "\n",
    "In practical terms a Series is equvalent to a DataFrame's single column.\n",
    "\n",
    "An actually most of the methods are inherited from one another.\n"
   ]
  },
  {
   "cell_type": "code",
   "execution_count": 8,
   "id": "61c38bf1-d6b8-404a-9f27-b932e961d1ce",
   "metadata": {},
   "outputs": [],
   "source": [
    "size = 1000\n",
    "\n",
    "df = pd.DataFrame({\"a\":np.random.choice(a = range(10), size = size),\n",
    "              \"b\":np.random.choice(a = range(10), size = size),\n",
    "              \"c\":np.random.choice(a = range(10), size = size)})"
   ]
  },
  {
   "cell_type": "code",
   "execution_count": 14,
   "id": "c24cb3fc-2be3-4e55-ad3f-71b628b2e9f3",
   "metadata": {},
   "outputs": [
    {
     "data": {
      "text/html": [
       "<div>\n",
       "<style scoped>\n",
       "    .dataframe tbody tr th:only-of-type {\n",
       "        vertical-align: middle;\n",
       "    }\n",
       "\n",
       "    .dataframe tbody tr th {\n",
       "        vertical-align: top;\n",
       "    }\n",
       "\n",
       "    .dataframe thead th {\n",
       "        text-align: right;\n",
       "    }\n",
       "</style>\n",
       "<table border=\"1\" class=\"dataframe\">\n",
       "  <thead>\n",
       "    <tr style=\"text-align: right;\">\n",
       "      <th></th>\n",
       "      <th>a</th>\n",
       "      <th>b</th>\n",
       "      <th>c</th>\n",
       "    </tr>\n",
       "  </thead>\n",
       "  <tbody>\n",
       "    <tr>\n",
       "      <th>367</th>\n",
       "      <td>6</td>\n",
       "      <td>3</td>\n",
       "      <td>1</td>\n",
       "    </tr>\n",
       "    <tr>\n",
       "      <th>670</th>\n",
       "      <td>0</td>\n",
       "      <td>2</td>\n",
       "      <td>3</td>\n",
       "    </tr>\n",
       "    <tr>\n",
       "      <th>640</th>\n",
       "      <td>4</td>\n",
       "      <td>4</td>\n",
       "      <td>8</td>\n",
       "    </tr>\n",
       "    <tr>\n",
       "      <th>617</th>\n",
       "      <td>8</td>\n",
       "      <td>6</td>\n",
       "      <td>8</td>\n",
       "    </tr>\n",
       "    <tr>\n",
       "      <th>779</th>\n",
       "      <td>3</td>\n",
       "      <td>3</td>\n",
       "      <td>4</td>\n",
       "    </tr>\n",
       "    <tr>\n",
       "      <th>175</th>\n",
       "      <td>0</td>\n",
       "      <td>3</td>\n",
       "      <td>5</td>\n",
       "    </tr>\n",
       "    <tr>\n",
       "      <th>710</th>\n",
       "      <td>6</td>\n",
       "      <td>4</td>\n",
       "      <td>3</td>\n",
       "    </tr>\n",
       "  </tbody>\n",
       "</table>\n",
       "</div>"
      ],
      "text/plain": [
       "     a  b  c\n",
       "367  6  3  1\n",
       "670  0  2  3\n",
       "640  4  4  8\n",
       "617  8  6  8\n",
       "779  3  3  4\n",
       "175  0  3  5\n",
       "710  6  4  3"
      ]
     },
     "execution_count": 14,
     "metadata": {},
     "output_type": "execute_result"
    }
   ],
   "source": [
    "df.sample(7)"
   ]
  },
  {
   "cell_type": "code",
   "execution_count": 21,
   "id": "45805c3c-87b1-4479-b9ac-dae9cdbdf332",
   "metadata": {},
   "outputs": [
    {
     "name": "stdout",
     "output_type": "stream",
     "text": [
      "End datetime: 2022-07-20 12:59:18.470933\n",
      "Time to complete: 11.412634952863057 minutes\n"
     ]
    }
   ],
   "source": [
    "print(f\"End datetime: {pd.to_datetime('today')}\")\n",
    "print(f\"Time to complete: {(time()-t0)/60} minutes\")"
   ]
  },
  {
   "cell_type": "code",
   "execution_count": null,
   "id": "a7ed36ad-3cd8-4f46-b2a2-32cf1221a223",
   "metadata": {},
   "outputs": [],
   "source": []
  }
 ],
 "metadata": {
  "kernelspec": {
   "display_name": "Python 3 (ipykernel)",
   "language": "python",
   "name": "python3"
  },
  "language_info": {
   "codemirror_mode": {
    "name": "ipython",
    "version": 3
   },
   "file_extension": ".py",
   "mimetype": "text/x-python",
   "name": "python",
   "nbconvert_exporter": "python",
   "pygments_lexer": "ipython3",
   "version": "3.8.9"
  }
 },
 "nbformat": 4,
 "nbformat_minor": 5
}
