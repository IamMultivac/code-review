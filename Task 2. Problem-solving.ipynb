{
 "cells": [
  {
   "cell_type": "code",
   "execution_count": 1,
   "id": "12071c45-f340-474a-97a4-90c9a981feb2",
   "metadata": {},
   "outputs": [],
   "source": [
    "import pandas as pd\n",
    "import numpy as np"
   ]
  },
  {
   "cell_type": "code",
   "execution_count": 10,
   "id": "7a450589-1a74-4fdf-87a8-43c5734c8874",
   "metadata": {},
   "outputs": [
    {
     "name": "stdout",
     "output_type": "stream",
     "text": [
      "Starting datetime: 2022-07-19 18:38:18.085057\n"
     ]
    }
   ],
   "source": [
    "print(f\"Starting datetime: {pd.to_datetime('today')}\")"
   ]
  },
  {
   "cell_type": "code",
   "execution_count": 43,
   "id": "70c6a3a9-f9af-4ca5-b8c4-16abb270d83e",
   "metadata": {},
   "outputs": [],
   "source": [
    "data = pd.read_csv(\"../data/movie_metadata.csv\")"
   ]
  },
  {
   "cell_type": "code",
   "execution_count": 44,
   "id": "9c496f95-c066-4d4f-abcf-de448b118ebc",
   "metadata": {},
   "outputs": [
    {
     "name": "stdout",
     "output_type": "stream",
     "text": [
      "<class 'pandas.core.frame.DataFrame'>\n",
      "RangeIndex: 5043 entries, 0 to 5042\n",
      "Data columns (total 28 columns):\n",
      " #   Column                     Non-Null Count  Dtype  \n",
      "---  ------                     --------------  -----  \n",
      " 0   color                      5024 non-null   object \n",
      " 1   director_name              4939 non-null   object \n",
      " 2   num_critic_for_reviews     4993 non-null   float64\n",
      " 3   duration                   5028 non-null   float64\n",
      " 4   director_facebook_likes    4939 non-null   float64\n",
      " 5   actor_3_facebook_likes     5020 non-null   float64\n",
      " 6   actor_2_name               5030 non-null   object \n",
      " 7   actor_1_facebook_likes     5036 non-null   float64\n",
      " 8   gross                      4159 non-null   float64\n",
      " 9   genres                     5043 non-null   object \n",
      " 10  actor_1_name               5036 non-null   object \n",
      " 11  movie_title                5043 non-null   object \n",
      " 12  num_voted_users            5043 non-null   int64  \n",
      " 13  cast_total_facebook_likes  5043 non-null   int64  \n",
      " 14  actor_3_name               5020 non-null   object \n",
      " 15  facenumber_in_poster       5030 non-null   float64\n",
      " 16  plot_keywords              4890 non-null   object \n",
      " 17  movie_imdb_link            5043 non-null   object \n",
      " 18  num_user_for_reviews       5022 non-null   float64\n",
      " 19  language                   5031 non-null   object \n",
      " 20  country                    5038 non-null   object \n",
      " 21  content_rating             4740 non-null   object \n",
      " 22  budget                     5043 non-null   object \n",
      " 23  title_year                 4935 non-null   float64\n",
      " 24  actor_2_facebook_likes     5030 non-null   float64\n",
      " 25  imdb_score                 5043 non-null   float64\n",
      " 26  aspect_ratio               4714 non-null   float64\n",
      " 27  movie_facebook_likes       5043 non-null   int64  \n",
      "dtypes: float64(12), int64(3), object(13)\n",
      "memory usage: 1.1+ MB\n"
     ]
    }
   ],
   "source": [
    "data.info()"
   ]
  },
  {
   "cell_type": "code",
   "execution_count": 6,
   "id": "3c172e8b-62f8-403c-89d9-45f7e8e919c8",
   "metadata": {},
   "outputs": [
    {
     "data": {
      "text/html": [
       "<div>\n",
       "<style scoped>\n",
       "    .dataframe tbody tr th:only-of-type {\n",
       "        vertical-align: middle;\n",
       "    }\n",
       "\n",
       "    .dataframe tbody tr th {\n",
       "        vertical-align: top;\n",
       "    }\n",
       "\n",
       "    .dataframe thead th {\n",
       "        text-align: right;\n",
       "    }\n",
       "</style>\n",
       "<table border=\"1\" class=\"dataframe\">\n",
       "  <thead>\n",
       "    <tr style=\"text-align: right;\">\n",
       "      <th></th>\n",
       "      <th>color</th>\n",
       "      <th>director_name</th>\n",
       "      <th>num_critic_for_reviews</th>\n",
       "      <th>duration</th>\n",
       "      <th>director_facebook_likes</th>\n",
       "      <th>actor_3_facebook_likes</th>\n",
       "      <th>actor_2_name</th>\n",
       "      <th>actor_1_facebook_likes</th>\n",
       "      <th>gross</th>\n",
       "      <th>genres</th>\n",
       "      <th>...</th>\n",
       "      <th>num_user_for_reviews</th>\n",
       "      <th>language</th>\n",
       "      <th>country</th>\n",
       "      <th>content_rating</th>\n",
       "      <th>budget</th>\n",
       "      <th>title_year</th>\n",
       "      <th>actor_2_facebook_likes</th>\n",
       "      <th>imdb_score</th>\n",
       "      <th>aspect_ratio</th>\n",
       "      <th>movie_facebook_likes</th>\n",
       "    </tr>\n",
       "  </thead>\n",
       "  <tbody>\n",
       "    <tr>\n",
       "      <th>2982</th>\n",
       "      <td>Color</td>\n",
       "      <td>Ryan Murphy</td>\n",
       "      <td>132.0</td>\n",
       "      <td>122.0</td>\n",
       "      <td>708.0</td>\n",
       "      <td>316.0</td>\n",
       "      <td>Joseph Cross</td>\n",
       "      <td>433.0</td>\n",
       "      <td>6754898.0</td>\n",
       "      <td>Comedy|Drama</td>\n",
       "      <td>...</td>\n",
       "      <td>188.0</td>\n",
       "      <td>English</td>\n",
       "      <td>USA</td>\n",
       "      <td>R</td>\n",
       "      <td>12000000.0$</td>\n",
       "      <td>2006.0</td>\n",
       "      <td>398.0</td>\n",
       "      <td>6.2</td>\n",
       "      <td>2.35</td>\n",
       "      <td>0</td>\n",
       "    </tr>\n",
       "    <tr>\n",
       "      <th>715</th>\n",
       "      <td>Color</td>\n",
       "      <td>David Fincher</td>\n",
       "      <td>568.0</td>\n",
       "      <td>149.0</td>\n",
       "      <td>21000.0</td>\n",
       "      <td>625.0</td>\n",
       "      <td>Sela Ward</td>\n",
       "      <td>835.0</td>\n",
       "      <td>167735396.0</td>\n",
       "      <td>Crime|Drama|Mystery|Thriller</td>\n",
       "      <td>...</td>\n",
       "      <td>1127.0</td>\n",
       "      <td>English</td>\n",
       "      <td>USA</td>\n",
       "      <td>R</td>\n",
       "      <td>61000000.0$</td>\n",
       "      <td>2014.0</td>\n",
       "      <td>812.0</td>\n",
       "      <td>8.1</td>\n",
       "      <td>2.35</td>\n",
       "      <td>146000</td>\n",
       "    </tr>\n",
       "    <tr>\n",
       "      <th>4611</th>\n",
       "      <td>Color</td>\n",
       "      <td>David Cross</td>\n",
       "      <td>20.0</td>\n",
       "      <td>96.0</td>\n",
       "      <td>0.0</td>\n",
       "      <td>396.0</td>\n",
       "      <td>Matt Walsh</td>\n",
       "      <td>782.0</td>\n",
       "      <td>NaN</td>\n",
       "      <td>Comedy|Drama</td>\n",
       "      <td>...</td>\n",
       "      <td>8.0</td>\n",
       "      <td>English</td>\n",
       "      <td>USA</td>\n",
       "      <td>NaN</td>\n",
       "      <td>1000000.0$</td>\n",
       "      <td>2014.0</td>\n",
       "      <td>490.0</td>\n",
       "      <td>5.8</td>\n",
       "      <td>1.78</td>\n",
       "      <td>903</td>\n",
       "    </tr>\n",
       "    <tr>\n",
       "      <th>1079</th>\n",
       "      <td>Color</td>\n",
       "      <td>Alan J. Pakula</td>\n",
       "      <td>43.0</td>\n",
       "      <td>141.0</td>\n",
       "      <td>79.0</td>\n",
       "      <td>956.0</td>\n",
       "      <td>Julia Roberts</td>\n",
       "      <td>18000.0</td>\n",
       "      <td>100768056.0</td>\n",
       "      <td>Crime|Drama|Mystery|Thriller</td>\n",
       "      <td>...</td>\n",
       "      <td>89.0</td>\n",
       "      <td>English</td>\n",
       "      <td>USA</td>\n",
       "      <td>PG-13</td>\n",
       "      <td>45000000.0$</td>\n",
       "      <td>1993.0</td>\n",
       "      <td>8000.0</td>\n",
       "      <td>6.5</td>\n",
       "      <td>2.35</td>\n",
       "      <td>0</td>\n",
       "    </tr>\n",
       "    <tr>\n",
       "      <th>2888</th>\n",
       "      <td>Color</td>\n",
       "      <td>Mark Neveldine</td>\n",
       "      <td>93.0</td>\n",
       "      <td>91.0</td>\n",
       "      <td>83.0</td>\n",
       "      <td>794.0</td>\n",
       "      <td>Alison Lohman</td>\n",
       "      <td>3000.0</td>\n",
       "      <td>1712111.0</td>\n",
       "      <td>Horror|Thriller</td>\n",
       "      <td>...</td>\n",
       "      <td>53.0</td>\n",
       "      <td>English</td>\n",
       "      <td>USA</td>\n",
       "      <td>PG-13</td>\n",
       "      <td>8495000.0$</td>\n",
       "      <td>2015.0</td>\n",
       "      <td>1000.0</td>\n",
       "      <td>4.5</td>\n",
       "      <td>1.85</td>\n",
       "      <td>0</td>\n",
       "    </tr>\n",
       "    <tr>\n",
       "      <th>3821</th>\n",
       "      <td>Color</td>\n",
       "      <td>Billy Bob Thornton</td>\n",
       "      <td>104.0</td>\n",
       "      <td>148.0</td>\n",
       "      <td>0.0</td>\n",
       "      <td>263.0</td>\n",
       "      <td>Dwight Yoakam</td>\n",
       "      <td>3000.0</td>\n",
       "      <td>24475416.0</td>\n",
       "      <td>Drama</td>\n",
       "      <td>...</td>\n",
       "      <td>309.0</td>\n",
       "      <td>English</td>\n",
       "      <td>USA</td>\n",
       "      <td>R</td>\n",
       "      <td>890000.0$</td>\n",
       "      <td>1996.0</td>\n",
       "      <td>324.0</td>\n",
       "      <td>8.0</td>\n",
       "      <td>1.85</td>\n",
       "      <td>0</td>\n",
       "    </tr>\n",
       "    <tr>\n",
       "      <th>3377</th>\n",
       "      <td>Color</td>\n",
       "      <td>Wes Craven</td>\n",
       "      <td>109.0</td>\n",
       "      <td>107.0</td>\n",
       "      <td>0.0</td>\n",
       "      <td>112.0</td>\n",
       "      <td>Heather Langenkamp</td>\n",
       "      <td>969.0</td>\n",
       "      <td>18090181.0</td>\n",
       "      <td>Fantasy|Horror|Mystery|Thriller</td>\n",
       "      <td>...</td>\n",
       "      <td>271.0</td>\n",
       "      <td>English</td>\n",
       "      <td>USA</td>\n",
       "      <td>R</td>\n",
       "      <td>8000000.0$</td>\n",
       "      <td>1994.0</td>\n",
       "      <td>449.0</td>\n",
       "      <td>6.4</td>\n",
       "      <td>1.85</td>\n",
       "      <td>0</td>\n",
       "    </tr>\n",
       "  </tbody>\n",
       "</table>\n",
       "<p>7 rows × 28 columns</p>\n",
       "</div>"
      ],
      "text/plain": [
       "      color       director_name  num_critic_for_reviews  duration  \\\n",
       "2982  Color         Ryan Murphy                   132.0     122.0   \n",
       "715   Color       David Fincher                   568.0     149.0   \n",
       "4611  Color         David Cross                    20.0      96.0   \n",
       "1079  Color      Alan J. Pakula                    43.0     141.0   \n",
       "2888  Color      Mark Neveldine                    93.0      91.0   \n",
       "3821  Color  Billy Bob Thornton                   104.0     148.0   \n",
       "3377  Color          Wes Craven                   109.0     107.0   \n",
       "\n",
       "      director_facebook_likes  actor_3_facebook_likes        actor_2_name  \\\n",
       "2982                    708.0                   316.0        Joseph Cross   \n",
       "715                   21000.0                   625.0           Sela Ward   \n",
       "4611                      0.0                   396.0          Matt Walsh   \n",
       "1079                     79.0                   956.0       Julia Roberts   \n",
       "2888                     83.0                   794.0       Alison Lohman   \n",
       "3821                      0.0                   263.0       Dwight Yoakam   \n",
       "3377                      0.0                   112.0  Heather Langenkamp   \n",
       "\n",
       "      actor_1_facebook_likes        gross                           genres  \\\n",
       "2982                   433.0    6754898.0                     Comedy|Drama   \n",
       "715                    835.0  167735396.0     Crime|Drama|Mystery|Thriller   \n",
       "4611                   782.0          NaN                     Comedy|Drama   \n",
       "1079                 18000.0  100768056.0     Crime|Drama|Mystery|Thriller   \n",
       "2888                  3000.0    1712111.0                  Horror|Thriller   \n",
       "3821                  3000.0   24475416.0                            Drama   \n",
       "3377                   969.0   18090181.0  Fantasy|Horror|Mystery|Thriller   \n",
       "\n",
       "      ... num_user_for_reviews language  country  content_rating       budget  \\\n",
       "2982  ...                188.0  English      USA               R  12000000.0$   \n",
       "715   ...               1127.0  English      USA               R  61000000.0$   \n",
       "4611  ...                  8.0  English      USA             NaN   1000000.0$   \n",
       "1079  ...                 89.0  English      USA           PG-13  45000000.0$   \n",
       "2888  ...                 53.0  English      USA           PG-13   8495000.0$   \n",
       "3821  ...                309.0  English      USA               R    890000.0$   \n",
       "3377  ...                271.0  English      USA               R   8000000.0$   \n",
       "\n",
       "      title_year actor_2_facebook_likes imdb_score  aspect_ratio  \\\n",
       "2982      2006.0                  398.0        6.2          2.35   \n",
       "715       2014.0                  812.0        8.1          2.35   \n",
       "4611      2014.0                  490.0        5.8          1.78   \n",
       "1079      1993.0                 8000.0        6.5          2.35   \n",
       "2888      2015.0                 1000.0        4.5          1.85   \n",
       "3821      1996.0                  324.0        8.0          1.85   \n",
       "3377      1994.0                  449.0        6.4          1.85   \n",
       "\n",
       "     movie_facebook_likes  \n",
       "2982                    0  \n",
       "715                146000  \n",
       "4611                  903  \n",
       "1079                    0  \n",
       "2888                    0  \n",
       "3821                    0  \n",
       "3377                    0  \n",
       "\n",
       "[7 rows x 28 columns]"
      ]
     },
     "execution_count": 6,
     "metadata": {},
     "output_type": "execute_result"
    }
   ],
   "source": [
    "data.sample(7)"
   ]
  },
  {
   "cell_type": "markdown",
   "id": "71bab51b-5c3b-406f-b2fc-99f63abea3ed",
   "metadata": {},
   "source": [
    "1.2. The duration column contains data on the film length. How many missing values are there\n",
    "in this column?"
   ]
  },
  {
   "cell_type": "code",
   "execution_count": 12,
   "id": "92eb24a0-db6b-42e2-a720-f0b810b94348",
   "metadata": {
    "tags": []
   },
   "outputs": [
    {
     "data": {
      "text/plain": [
       "15"
      ]
     },
     "execution_count": 12,
     "metadata": {},
     "output_type": "execute_result"
    }
   ],
   "source": [
    "data[\"duration\"].isnull().sum()"
   ]
  },
  {
   "cell_type": "markdown",
   "id": "cf0f93be-5c99-4a00-9954-c77b8a5578ef",
   "metadata": {},
   "source": [
    "1.3. Replace the missing values in the duration column with the median value for this column."
   ]
  },
  {
   "cell_type": "code",
   "execution_count": 46,
   "id": "eb980be2-9d48-4965-81cf-c9b70fc89766",
   "metadata": {
    "jupyter": {
     "source_hidden": true
    },
    "tags": []
   },
   "outputs": [],
   "source": [
    "avg = data[\"duration\"].mean()\n",
    "data[\"duration\"].fillna(avg, inplace = True)"
   ]
  },
  {
   "cell_type": "markdown",
   "id": "86b3d2a4-87a3-474b-a9f5-e43698e3430d",
   "metadata": {},
   "source": [
    "1.4. What is the average film length? Give the answer as a floating-point figure rounded to\n",
    "two decimal places.\n"
   ]
  },
  {
   "cell_type": "code",
   "execution_count": 16,
   "id": "d2af02ca-914b-4739-966c-fdf4f660d6ad",
   "metadata": {
    "jupyter": {
     "source_hidden": true
    },
    "tags": []
   },
   "outputs": [
    {
     "data": {
      "text/plain": [
       "107.2"
      ]
     },
     "execution_count": 16,
     "metadata": {},
     "output_type": "execute_result"
    }
   ],
   "source": [
    "round(avg,2)"
   ]
  },
  {
   "cell_type": "markdown",
   "id": "b1edf46e-c693-47bc-84d1-545e72b99d74",
   "metadata": {},
   "source": [
    "1.5. Create a movie_duration_category column, which will contain three categories\n",
    "depending on the film length:\n",
    "* Category \"1. <90\" if the film is less than 90 minutes long\n",
    "* Category \"2. 90–120\" if the film is between 90 minutes and two hours long (inclusively)\n",
    "* Category \"3. >120\" if the film is more than two hours long\n"
   ]
  },
  {
   "cell_type": "code",
   "execution_count": 47,
   "id": "b4602219-1273-40b3-9421-ab3403cc5134",
   "metadata": {
    "jupyter": {
     "source_hidden": true
    },
    "tags": []
   },
   "outputs": [
    {
     "data": {
      "text/html": [
       "<div>\n",
       "<style scoped>\n",
       "    .dataframe tbody tr th:only-of-type {\n",
       "        vertical-align: middle;\n",
       "    }\n",
       "\n",
       "    .dataframe tbody tr th {\n",
       "        vertical-align: top;\n",
       "    }\n",
       "\n",
       "    .dataframe thead th {\n",
       "        text-align: right;\n",
       "    }\n",
       "</style>\n",
       "<table border=\"1\" class=\"dataframe\">\n",
       "  <thead>\n",
       "    <tr style=\"text-align: right;\">\n",
       "      <th></th>\n",
       "      <th>duration</th>\n",
       "      <th>movie_duration_category</th>\n",
       "    </tr>\n",
       "  </thead>\n",
       "  <tbody>\n",
       "    <tr>\n",
       "      <th>410</th>\n",
       "      <td>120.0</td>\n",
       "      <td>&gt;120</td>\n",
       "    </tr>\n",
       "    <tr>\n",
       "      <th>3190</th>\n",
       "      <td>111.0</td>\n",
       "      <td>90-120</td>\n",
       "    </tr>\n",
       "    <tr>\n",
       "      <th>4444</th>\n",
       "      <td>102.0</td>\n",
       "      <td>90-120</td>\n",
       "    </tr>\n",
       "    <tr>\n",
       "      <th>2334</th>\n",
       "      <td>103.0</td>\n",
       "      <td>90-120</td>\n",
       "    </tr>\n",
       "    <tr>\n",
       "      <th>321</th>\n",
       "      <td>95.0</td>\n",
       "      <td>90-120</td>\n",
       "    </tr>\n",
       "  </tbody>\n",
       "</table>\n",
       "</div>"
      ],
      "text/plain": [
       "      duration movie_duration_category\n",
       "410      120.0                    >120\n",
       "3190     111.0                  90-120\n",
       "4444     102.0                  90-120\n",
       "2334     103.0                  90-120\n",
       "321       95.0                  90-120"
      ]
     },
     "execution_count": 47,
     "metadata": {},
     "output_type": "execute_result"
    }
   ],
   "source": [
    "condlist=[(data.duration < 90),\n",
    "          ((data.duration>=90) & (data.duration < 120)),\n",
    "          (data.duration>=120)\n",
    "         ]\n",
    "\n",
    "choicelist = [\"<90\",\"90-120\",\">120\"]\n",
    "\n",
    "data.loc[:,\"movie_duration_category\"] = np.select(condlist= condlist, choicelist=choicelist,)\n",
    "\n",
    "data[[\"duration\", \"movie_duration_category\"]].sample(5)"
   ]
  },
  {
   "cell_type": "markdown",
   "id": "5af840cc-1357-4ce7-a0fc-c0ecce3181de",
   "metadata": {},
   "source": [
    "1.6. Build a summary table for films released after 2000 (inclusively), to list the numbers of\n",
    "films:\n",
    "* Table rows: year\n",
    "* Table columns: movie duration category (\"<90\", \"90–120\", \">120\")\n",
    "* The year of release should be displayed in the YYYY format.\n"
   ]
  },
  {
   "cell_type": "code",
   "execution_count": 57,
   "id": "2ac5c42a-5a70-4988-92c9-151ecd1ff6e3",
   "metadata": {
    "jupyter": {
     "source_hidden": true
    },
    "tags": []
   },
   "outputs": [
    {
     "data": {
      "text/html": [
       "<div>\n",
       "<style scoped>\n",
       "    .dataframe tbody tr th:only-of-type {\n",
       "        vertical-align: middle;\n",
       "    }\n",
       "\n",
       "    .dataframe tbody tr th {\n",
       "        vertical-align: top;\n",
       "    }\n",
       "\n",
       "    .dataframe thead th {\n",
       "        text-align: right;\n",
       "    }\n",
       "</style>\n",
       "<table border=\"1\" class=\"dataframe\">\n",
       "  <thead>\n",
       "    <tr style=\"text-align: right;\">\n",
       "      <th>movie_duration_category</th>\n",
       "      <th>title_year</th>\n",
       "      <th>90-120</th>\n",
       "      <th>&lt;90</th>\n",
       "      <th>&gt;120</th>\n",
       "    </tr>\n",
       "  </thead>\n",
       "  <tbody>\n",
       "    <tr>\n",
       "      <th>0</th>\n",
       "      <td>2000</td>\n",
       "      <td>108</td>\n",
       "      <td>25</td>\n",
       "      <td>38</td>\n",
       "    </tr>\n",
       "    <tr>\n",
       "      <th>1</th>\n",
       "      <td>2001</td>\n",
       "      <td>118</td>\n",
       "      <td>29</td>\n",
       "      <td>41</td>\n",
       "    </tr>\n",
       "    <tr>\n",
       "      <th>2</th>\n",
       "      <td>2002</td>\n",
       "      <td>145</td>\n",
       "      <td>36</td>\n",
       "      <td>28</td>\n",
       "    </tr>\n",
       "    <tr>\n",
       "      <th>3</th>\n",
       "      <td>2003</td>\n",
       "      <td>104</td>\n",
       "      <td>31</td>\n",
       "      <td>34</td>\n",
       "    </tr>\n",
       "    <tr>\n",
       "      <th>4</th>\n",
       "      <td>2004</td>\n",
       "      <td>134</td>\n",
       "      <td>30</td>\n",
       "      <td>50</td>\n",
       "    </tr>\n",
       "    <tr>\n",
       "      <th>5</th>\n",
       "      <td>2005</td>\n",
       "      <td>141</td>\n",
       "      <td>31</td>\n",
       "      <td>49</td>\n",
       "    </tr>\n",
       "    <tr>\n",
       "      <th>6</th>\n",
       "      <td>2006</td>\n",
       "      <td>142</td>\n",
       "      <td>40</td>\n",
       "      <td>57</td>\n",
       "    </tr>\n",
       "    <tr>\n",
       "      <th>7</th>\n",
       "      <td>2007</td>\n",
       "      <td>126</td>\n",
       "      <td>31</td>\n",
       "      <td>47</td>\n",
       "    </tr>\n",
       "    <tr>\n",
       "      <th>8</th>\n",
       "      <td>2008</td>\n",
       "      <td>157</td>\n",
       "      <td>29</td>\n",
       "      <td>39</td>\n",
       "    </tr>\n",
       "    <tr>\n",
       "      <th>9</th>\n",
       "      <td>2009</td>\n",
       "      <td>174</td>\n",
       "      <td>42</td>\n",
       "      <td>44</td>\n",
       "    </tr>\n",
       "    <tr>\n",
       "      <th>10</th>\n",
       "      <td>2010</td>\n",
       "      <td>169</td>\n",
       "      <td>26</td>\n",
       "      <td>35</td>\n",
       "    </tr>\n",
       "    <tr>\n",
       "      <th>11</th>\n",
       "      <td>2011</td>\n",
       "      <td>149</td>\n",
       "      <td>36</td>\n",
       "      <td>40</td>\n",
       "    </tr>\n",
       "    <tr>\n",
       "      <th>12</th>\n",
       "      <td>2012</td>\n",
       "      <td>139</td>\n",
       "      <td>41</td>\n",
       "      <td>41</td>\n",
       "    </tr>\n",
       "    <tr>\n",
       "      <th>13</th>\n",
       "      <td>2013</td>\n",
       "      <td>141</td>\n",
       "      <td>38</td>\n",
       "      <td>58</td>\n",
       "    </tr>\n",
       "    <tr>\n",
       "      <th>14</th>\n",
       "      <td>2014</td>\n",
       "      <td>170</td>\n",
       "      <td>36</td>\n",
       "      <td>46</td>\n",
       "    </tr>\n",
       "    <tr>\n",
       "      <th>15</th>\n",
       "      <td>2015</td>\n",
       "      <td>142</td>\n",
       "      <td>34</td>\n",
       "      <td>50</td>\n",
       "    </tr>\n",
       "    <tr>\n",
       "      <th>16</th>\n",
       "      <td>2016</td>\n",
       "      <td>72</td>\n",
       "      <td>8</td>\n",
       "      <td>26</td>\n",
       "    </tr>\n",
       "  </tbody>\n",
       "</table>\n",
       "</div>"
      ],
      "text/plain": [
       "movie_duration_category  title_year  90-120  <90  >120\n",
       "0                              2000     108   25    38\n",
       "1                              2001     118   29    41\n",
       "2                              2002     145   36    28\n",
       "3                              2003     104   31    34\n",
       "4                              2004     134   30    50\n",
       "5                              2005     141   31    49\n",
       "6                              2006     142   40    57\n",
       "7                              2007     126   31    47\n",
       "8                              2008     157   29    39\n",
       "9                              2009     174   42    44\n",
       "10                             2010     169   26    35\n",
       "11                             2011     149   36    40\n",
       "12                             2012     139   41    41\n",
       "13                             2013     141   38    58\n",
       "14                             2014     170   36    46\n",
       "15                             2015     142   34    50\n",
       "16                             2016      72    8    26"
      ]
     },
     "execution_count": 57,
     "metadata": {},
     "output_type": "execute_result"
    }
   ],
   "source": [
    "\n",
    "summary_table = (data\n",
    " .assign(counter_ = 1)\n",
    " .assign(title_year_int = lambda x: x[\"title_year\"].astype('Int64'))\n",
    " .query(\"title_year_int >= 2000\")\n",
    " .groupby([\"title_year_int\",\"movie_duration_category\"])\n",
    " .counter_\n",
    " .sum()\n",
    " .unstack()\n",
    " .reset_index()\n",
    " .rename(columns = {\"title_year_int\":\"title_year\"})\n",
    " \n",
    ")\n",
    "\n",
    "summary_table"
   ]
  },
  {
   "cell_type": "markdown",
   "id": "6e1a9495-978e-41a7-964c-aa15ba8f56ab",
   "metadata": {},
   "source": [
    "1.7. How many films between 90 minutes and two hours long were released in 2008?\n"
   ]
  },
  {
   "cell_type": "code",
   "execution_count": 62,
   "id": "c54f3ea3-28ea-4157-bb22-ea0d1ae8f913",
   "metadata": {
    "jupyter": {
     "source_hidden": true
    },
    "tags": []
   },
   "outputs": [
    {
     "data": {
      "text/plain": [
       "157"
      ]
     },
     "execution_count": 62,
     "metadata": {},
     "output_type": "execute_result"
    }
   ],
   "source": [
    "summary_table.loc[summary_table.title_year == 2008,\"90-120\"].values[0]"
   ]
  },
  {
   "cell_type": "markdown",
   "id": "b6696caa-3c59-415f-969b-3dd28a86aa7e",
   "metadata": {},
   "source": [
    "1.8. The plot_keywords column holds keywords characterizing the film's plot. Using the data\n",
    "in this column, create a column called movie_plot_category, to contain four categories\n",
    "depending on the key words in the column:\n",
    "* Category \"love_and_death\" if the keywords include both \"love\" and \"death\"\n",
    "* Category \"love\" if the keywords include the word \"love\"\n",
    "* Category \"death\" if the keywords include the word \"death\"\n",
    "* Category \"other\" if the keywords do not meet the conditions above\n"
   ]
  },
  {
   "cell_type": "code",
   "execution_count": 74,
   "id": "1e1d118d-6fc7-4627-b303-2cdb570e8b45",
   "metadata": {
    "jupyter": {
     "source_hidden": true
    },
    "tags": []
   },
   "outputs": [
    {
     "data": {
      "text/html": [
       "<div>\n",
       "<style scoped>\n",
       "    .dataframe tbody tr th:only-of-type {\n",
       "        vertical-align: middle;\n",
       "    }\n",
       "\n",
       "    .dataframe tbody tr th {\n",
       "        vertical-align: top;\n",
       "    }\n",
       "\n",
       "    .dataframe thead th {\n",
       "        text-align: right;\n",
       "    }\n",
       "</style>\n",
       "<table border=\"1\" class=\"dataframe\">\n",
       "  <thead>\n",
       "    <tr style=\"text-align: right;\">\n",
       "      <th></th>\n",
       "      <th>plot_keywords</th>\n",
       "      <th>movie_plot_category</th>\n",
       "    </tr>\n",
       "  </thead>\n",
       "  <tbody>\n",
       "    <tr>\n",
       "      <th>3884</th>\n",
       "      <td>androgynous|full frontal male nudity|irish rep...</td>\n",
       "      <td>love</td>\n",
       "    </tr>\n",
       "    <tr>\n",
       "      <th>3513</th>\n",
       "      <td>artist|box office flop|dog|drawing|flanders</td>\n",
       "      <td>other</td>\n",
       "    </tr>\n",
       "    <tr>\n",
       "      <th>3686</th>\n",
       "      <td>drug addict|drug addiction|drug use|drugs|junkie</td>\n",
       "      <td>other</td>\n",
       "    </tr>\n",
       "    <tr>\n",
       "      <th>2674</th>\n",
       "      <td>car chase|gangsta|gun fight|hitman|kitten</td>\n",
       "      <td>other</td>\n",
       "    </tr>\n",
       "    <tr>\n",
       "      <th>3405</th>\n",
       "      <td>cancer|children|death|terminal cancer|time</td>\n",
       "      <td>death</td>\n",
       "    </tr>\n",
       "  </tbody>\n",
       "</table>\n",
       "</div>"
      ],
      "text/plain": [
       "                                          plot_keywords movie_plot_category\n",
       "3884  androgynous|full frontal male nudity|irish rep...                love\n",
       "3513        artist|box office flop|dog|drawing|flanders               other\n",
       "3686   drug addict|drug addiction|drug use|drugs|junkie               other\n",
       "2674          car chase|gangsta|gun fight|hitman|kitten               other\n",
       "3405         cancer|children|death|terminal cancer|time               death"
      ]
     },
     "execution_count": 74,
     "metadata": {},
     "output_type": "execute_result"
    }
   ],
   "source": [
    "data[\"plot_keywords\"] = data[\"plot_keywords\"].fillna(\"\")\n",
    "\n",
    "condlist=[(data.plot_keywords.str.contains(\"love\")) & (data.plot_keywords.str.contains(\"death\")),\n",
    "          (data.plot_keywords.str.contains(\"love\")),\n",
    "          (data.plot_keywords.str.contains(\"death\")),\n",
    "         ]\n",
    "\n",
    "choicelist = [\"love_and_death\",\"love\",\"death\"]\n",
    "\n",
    "data.loc[:,\"movie_plot_category\"] = np.select(condlist= condlist, choicelist=choicelist,default = \"other\")\n",
    "\n",
    "data[[\"plot_keywords\", \"movie_plot_category\"]].sample(5)"
   ]
  },
  {
   "cell_type": "markdown",
   "id": "2bd60831-b705-4566-b511-f4e68dd2327f",
   "metadata": {},
   "source": [
    "1.9. The imdb_score column shows a viewer rating for the film. Build a table to reflect the\n",
    "average rating of films depending on which movie_plot_category category they belong to.\n"
   ]
  },
  {
   "cell_type": "code",
   "execution_count": 80,
   "id": "2a29eb2b-cf23-4abc-bef5-241db2e660a4",
   "metadata": {},
   "outputs": [],
   "source": [
    "table = data.groupby(\"movie_plot_category\", as_index = False).imdb_score.mean()"
   ]
  },
  {
   "cell_type": "code",
   "execution_count": 81,
   "id": "682c4250-4bb6-4f1c-9b98-1f4e620dc10d",
   "metadata": {},
   "outputs": [
    {
     "data": {
      "text/html": [
       "<div>\n",
       "<style scoped>\n",
       "    .dataframe tbody tr th:only-of-type {\n",
       "        vertical-align: middle;\n",
       "    }\n",
       "\n",
       "    .dataframe tbody tr th {\n",
       "        vertical-align: top;\n",
       "    }\n",
       "\n",
       "    .dataframe thead th {\n",
       "        text-align: right;\n",
       "    }\n",
       "</style>\n",
       "<table border=\"1\" class=\"dataframe\">\n",
       "  <thead>\n",
       "    <tr style=\"text-align: right;\">\n",
       "      <th></th>\n",
       "      <th>movie_plot_category</th>\n",
       "      <th>imdb_score</th>\n",
       "    </tr>\n",
       "  </thead>\n",
       "  <tbody>\n",
       "    <tr>\n",
       "      <th>0</th>\n",
       "      <td>death</td>\n",
       "      <td>6.535465</td>\n",
       "    </tr>\n",
       "    <tr>\n",
       "      <th>1</th>\n",
       "      <td>love</td>\n",
       "      <td>6.580769</td>\n",
       "    </tr>\n",
       "    <tr>\n",
       "      <th>2</th>\n",
       "      <td>love_and_death</td>\n",
       "      <td>6.506250</td>\n",
       "    </tr>\n",
       "    <tr>\n",
       "      <th>3</th>\n",
       "      <td>other</td>\n",
       "      <td>6.431422</td>\n",
       "    </tr>\n",
       "  </tbody>\n",
       "</table>\n",
       "</div>"
      ],
      "text/plain": [
       "  movie_plot_category  imdb_score\n",
       "0               death    6.535465\n",
       "1                love    6.580769\n",
       "2      love_and_death    6.506250\n",
       "3               other    6.431422"
      ]
     },
     "execution_count": 81,
     "metadata": {},
     "output_type": "execute_result"
    }
   ],
   "source": [
    "table"
   ]
  },
  {
   "cell_type": "markdown",
   "id": "31fb5bf4-0dd9-4ff4-a96f-620d3b97f8ad",
   "metadata": {},
   "source": [
    "1.10. What is the average rating of films in the \"love\" category? Give the answer as a floatingpoint\n",
    "figure rounded to two decimal places.\n"
   ]
  },
  {
   "cell_type": "code",
   "execution_count": 86,
   "id": "38267c96-1a5f-4f4d-8317-75c71da634c2",
   "metadata": {
    "jupyter": {
     "source_hidden": true
    },
    "tags": []
   },
   "outputs": [
    {
     "data": {
      "text/plain": [
       "6.58"
      ]
     },
     "execution_count": 86,
     "metadata": {},
     "output_type": "execute_result"
    }
   ],
   "source": [
    "round(table.query(\"movie_plot_category == 'love'\").imdb_score.values[0],2)"
   ]
  },
  {
   "cell_type": "markdown",
   "id": "b3d96b11-3fc1-48d0-846e-d57b148ea086",
   "metadata": {},
   "source": [
    "1.11. The budget column contains the film's budget. What is the median budget for all the films\n",
    "listed? Give the answer as an integer."
   ]
  },
  {
   "cell_type": "code",
   "execution_count": 94,
   "id": "84cb089a-4135-46e6-a5c6-278670304a4e",
   "metadata": {
    "jupyter": {
     "source_hidden": true
    },
    "tags": []
   },
   "outputs": [
    {
     "data": {
      "text/plain": [
       "15000000"
      ]
     },
     "execution_count": 94,
     "metadata": {},
     "output_type": "execute_result"
    }
   ],
   "source": [
    "int(\n",
    " (data\n",
    " .assign(numeric_budget = data.budget.apply(lambda x: x.split(\".\")[0]).astype(\"float\"))\n",
    " .numeric_budget\n",
    " .median()\n",
    ")\n",
    ")"
   ]
  },
  {
   "cell_type": "code",
   "execution_count": 95,
   "id": "241970b3-bde6-4927-94ee-fec0c607175e",
   "metadata": {},
   "outputs": [
    {
     "name": "stdout",
     "output_type": "stream",
     "text": [
      "Ending datetime: 2022-07-19 19:14:28.044468\n"
     ]
    }
   ],
   "source": [
    "print(f\"Ending datetime: {pd.to_datetime('today')}\")"
   ]
  },
  {
   "cell_type": "code",
   "execution_count": null,
   "id": "1c2f820a-437d-4669-9ca7-f8302d46d689",
   "metadata": {},
   "outputs": [],
   "source": []
  }
 ],
 "metadata": {
  "kernelspec": {
   "display_name": "Python 3 (ipykernel)",
   "language": "python",
   "name": "python3"
  },
  "language_info": {
   "codemirror_mode": {
    "name": "ipython",
    "version": 3
   },
   "file_extension": ".py",
   "mimetype": "text/x-python",
   "name": "python",
   "nbconvert_exporter": "python",
   "pygments_lexer": "ipython3",
   "version": "3.8.9"
  }
 },
 "nbformat": 4,
 "nbformat_minor": 5
}
