{
 "cells": [
  {
   "cell_type": "code",
   "execution_count": 4,
   "id": "7b094f2f-ebb4-4077-b638-35560b27304e",
   "metadata": {},
   "outputs": [],
   "source": [
    "from time import time\n",
    "import pandas as pd\n",
    "import numpy as np"
   ]
  },
  {
   "cell_type": "code",
   "execution_count": 5,
   "id": "a8b2d2ee-7e41-4c75-8eff-a2a8db933db0",
   "metadata": {},
   "outputs": [
    {
     "name": "stdout",
     "output_type": "stream",
     "text": [
      "Starting datetime: 2022-07-20 13:19:58.648087\n"
     ]
    }
   ],
   "source": [
    "print(f\"Starting datetime: {pd.to_datetime('today')}\")\n",
    "t0 = time()"
   ]
  },
  {
   "cell_type": "markdown",
   "id": "2e76f020-788f-4a21-8041-977be59869e8",
   "metadata": {},
   "source": [
    "You are given two random variables X and Y.\n",
    "\n",
    "- E(X) = 0.5, Var(X) = 2\n",
    "- E(Y) = 7, Var(Y) = 3.5\n",
    "- cov (X, Y) = -0.8\n",
    "\n",
    "Find the variance of the random variable Z = 2X - 3Y\n"
   ]
  },
  {
   "cell_type": "markdown",
   "id": "1f6282d1-7439-4842-beb0-85b41f0992ba",
   "metadata": {},
   "source": [
    "We kow that\n",
    "var(X+y) = var(X) + var(Y) + 2COV(X,Y)"
   ]
  },
  {
   "cell_type": "markdown",
   "id": "57efc04c-d58f-4878-a7a9-42f0b0948bf4",
   "metadata": {},
   "source": [
    "Thus:\n",
    "\n",
    "Var(Z) = Var(2X - 3Y)  = 4Var(X) + 9Var(Y) - 2 * 2 * -3* Cov(X,Y) = 4 * 0.5 + 9 * 3.5 - 2* 2 * -3 * -0.8"
   ]
  },
  {
   "cell_type": "code",
   "execution_count": 2,
   "id": "d80604c5-bbdf-4b2a-abe6-bec57106c88e",
   "metadata": {},
   "outputs": [
    {
     "data": {
      "text/plain": [
       "23.9"
      ]
     },
     "execution_count": 2,
     "metadata": {},
     "output_type": "execute_result"
    }
   ],
   "source": [
    "4 * 0.5 + 9 * 3.5 - 2* 2 * -3 * -0.8"
   ]
  },
  {
   "cell_type": "code",
   "execution_count": 8,
   "id": "45805c3c-87b1-4479-b9ac-dae9cdbdf332",
   "metadata": {},
   "outputs": [
    {
     "name": "stdout",
     "output_type": "stream",
     "text": [
      "End datetime: 2022-07-20 13:22:33.237129\n",
      "Time to complete: 2.5764442324638366 minutes\n"
     ]
    }
   ],
   "source": [
    "print(f\"End datetime: {pd.to_datetime('today')}\")\n",
    "print(f\"Time to complete: {(time()-t0)/60} minutes\")"
   ]
  },
  {
   "cell_type": "code",
   "execution_count": null,
   "id": "a7ed36ad-3cd8-4f46-b2a2-32cf1221a223",
   "metadata": {},
   "outputs": [],
   "source": []
  }
 ],
 "metadata": {
  "kernelspec": {
   "display_name": "Python 3 (ipykernel)",
   "language": "python",
   "name": "python3"
  },
  "language_info": {
   "codemirror_mode": {
    "name": "ipython",
    "version": 3
   },
   "file_extension": ".py",
   "mimetype": "text/x-python",
   "name": "python",
   "nbconvert_exporter": "python",
   "pygments_lexer": "ipython3",
   "version": "3.8.9"
  }
 },
 "nbformat": 4,
 "nbformat_minor": 5
}
